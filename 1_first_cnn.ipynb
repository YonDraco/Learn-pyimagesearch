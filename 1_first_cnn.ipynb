{
  "nbformat": 4,
  "nbformat_minor": 0,
  "metadata": {
    "colab": {
      "name": "1_first_cnn.ipynb",
      "provenance": [],
      "collapsed_sections": [],
      "toc_visible": true,
      "include_colab_link": true
    },
    "kernelspec": {
      "name": "python3",
      "display_name": "Python 3"
    },
    "language_info": {
      "name": "python"
    },
    "accelerator": "GPU"
  },
  "cells": [
    {
      "cell_type": "markdown",
      "metadata": {
        "id": "view-in-github",
        "colab_type": "text"
      },
      "source": [
        "<a href=\"https://colab.research.google.com/github/YonDraco/learn-pyimagesearch/blob/master/1_first_cnn.ipynb\" target=\"_parent\"><img src=\"https://colab.research.google.com/assets/colab-badge.svg\" alt=\"Open In Colab\"/></a>"
      ]
    },
    {
      "cell_type": "markdown",
      "metadata": {
        "id": "kEYvcfHRB8dw"
      },
      "source": [
        "![pyimagesearch_university_logo.png](data:image/png;base64,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)"
      ]
    },
    {
      "cell_type": "markdown",
      "metadata": {
        "id": "j4RpK9pawQzP"
      },
      "source": [
        "# A gentle guide to training your first CNN with Keras and TensorFlow\n",
        "### by [PyImageSearch.com](http://www.pyimagesearch.com)"
      ]
    },
    {
      "cell_type": "markdown",
      "metadata": {
        "id": "8ntZ1AkXZIxY"
      },
      "source": [
        "## Welcome to **[PyImageSearch University](https://pyimg.co/university)** Jupyter Notebooks!\n",
        "\n",
        "This notebook is associated with the [A gentle guide to training your first CNN with Keras and TensorFlow](https://www.pyimagesearch.com/2021/05/22/a-gentle-guide-to-training-your-first-cnn-with-keras-and-tensorflow/) blog post published on 2021-05-22.\n",
        "\n",
        "Only the code for the blog post is here. Most codeblocks have a 1:1 relationship with what you find in the blog post with two exceptions: (1) Python classes are not separate files as they are typically organized with PyImageSearch projects, and (2) Command Line Argument parsing is replaced with an `args` dictionary that you can manipulate as needed.\n",
        "\n",
        "We recommend that you execute (press ▶️) the code block-by-block, as-is, before adjusting parameters and `args` inputs. Once you've verified that the code is working, you are welcome to hack with it and learn from manipulating inputs, settings, and parameters. For more information on using Jupyter and Colab, please refer to these resources:\n",
        "\n",
        "*   [Jupyter Notebook User Interface](https://jupyter-notebook.readthedocs.io/en/stable/notebook.html#notebook-user-interface)\n",
        "*   [Overview of Google Colaboratory Features](https://colab.research.google.com/notebooks/basic_features_overview.ipynb)\n",
        "\n",
        "As a reminder, these PyImageSearch University Jupyter Notebooks are not for sharing; please refer to the **Copyright** directly below and **Code License Agreement** in the last cell of this notebook. \n",
        "\n",
        "Happy hacking!\n",
        "\n",
        "*Adrian*\n",
        "\n",
        "<hr>\n",
        "\n",
        "***Copyright:*** *The contents of this Jupyter Notebook, unless otherwise indicated, are Copyright 2021 Adrian Rosebrock, PyimageSearch.com. All rights reserved. Content like this is made possible by the time invested by the authors. If you received this Jupyter Notebook and did not purchase it, please consider making future content possible by joining PyImageSearch University at https://pyimg.co/university today.*"
      ]
    },
    {
      "cell_type": "markdown",
      "metadata": {
        "id": "NFhAzQB3aNMa"
      },
      "source": [
        "### Download the code zip file"
      ]
    },
    {
      "cell_type": "code",
      "metadata": {
        "id": "7y0LG1EuaRlB",
        "colab": {
          "base_uri": "https://localhost:8080/"
        },
        "outputId": "f600f75a-e834-476f-ebfe-7e7dcd55baa8"
      },
      "source": [
        "!wget https://pyimagesearch-code-downloads.s3-us-west-2.amazonaws.com/first-cnn/first-cnn.zip\n",
        "!unzip -qq first-cnn.zip\n",
        "%cd first-cnn\n",
        "!wget https://pis-datasets.s3.us-east-2.amazonaws.com/animals.zip\n",
        "!unzip -qq animals.zip"
      ],
      "execution_count": 1,
      "outputs": [
        {
          "output_type": "stream",
          "text": [
            "--2021-08-25 17:12:40--  https://pyimagesearch-code-downloads.s3-us-west-2.amazonaws.com/first-cnn/first-cnn.zip\n",
            "Resolving pyimagesearch-code-downloads.s3-us-west-2.amazonaws.com (pyimagesearch-code-downloads.s3-us-west-2.amazonaws.com)... 52.218.243.170\n",
            "Connecting to pyimagesearch-code-downloads.s3-us-west-2.amazonaws.com (pyimagesearch-code-downloads.s3-us-west-2.amazonaws.com)|52.218.243.170|:443... connected.\n",
            "HTTP request sent, awaiting response... 200 OK\n",
            "Length: 10378 (10K) [binary/octet-stream]\n",
            "Saving to: ‘first-cnn.zip’\n",
            "\n",
            "\rfirst-cnn.zip         0%[                    ]       0  --.-KB/s               \rfirst-cnn.zip       100%[===================>]  10.13K  --.-KB/s    in 0s      \n",
            "\n",
            "2021-08-25 17:12:40 (68.4 MB/s) - ‘first-cnn.zip’ saved [10378/10378]\n",
            "\n",
            "/content/first-cnn\n",
            "--2021-08-25 17:12:40--  https://pis-datasets.s3.us-east-2.amazonaws.com/animals.zip\n",
            "Resolving pis-datasets.s3.us-east-2.amazonaws.com (pis-datasets.s3.us-east-2.amazonaws.com)... 52.219.98.162\n",
            "Connecting to pis-datasets.s3.us-east-2.amazonaws.com (pis-datasets.s3.us-east-2.amazonaws.com)|52.219.98.162|:443... connected.\n",
            "HTTP request sent, awaiting response... 200 OK\n",
            "Length: 196780870 (188M) [application/zip]\n",
            "Saving to: ‘animals.zip’\n",
            "\n",
            "animals.zip         100%[===================>] 187.66M  46.1MB/s    in 4.6s    \n",
            "\n",
            "2021-08-25 17:12:45 (40.4 MB/s) - ‘animals.zip’ saved [196780870/196780870]\n",
            "\n"
          ],
          "name": "stdout"
        }
      ]
    },
    {
      "cell_type": "markdown",
      "metadata": {
        "id": "_SgTVT3HagGZ"
      },
      "source": [
        "## Blog Post Code"
      ]
    },
    {
      "cell_type": "markdown",
      "metadata": {
        "id": "wcrOk6pURp50"
      },
      "source": [
        "### Import Packages"
      ]
    },
    {
      "cell_type": "code",
      "metadata": {
        "id": "-u4dX25-Z-pO"
      },
      "source": [
        "# import the necessary packages\n",
        "from sklearn.preprocessing import LabelBinarizer\n",
        "from sklearn.model_selection import train_test_split\n",
        "from sklearn.metrics import classification_report\n",
        "from pyimagesearch.preprocessing import ImageToArrayPreprocessor\n",
        "from pyimagesearch.preprocessing import SimplePreprocessor\n",
        "from pyimagesearch.datasets import SimpleDatasetLoader\n",
        "from tensorflow.keras.models import Sequential\n",
        "from tensorflow.keras.layers import Conv2D\n",
        "from tensorflow.keras.layers import Activation\n",
        "from tensorflow.keras.layers import Flatten\n",
        "from tensorflow.keras.layers import Dense\n",
        "from tensorflow.keras import backend as K\n",
        "from tensorflow.keras.optimizers import SGD\n",
        "from tensorflow.keras.datasets import cifar10\n",
        "from imutils import paths\n",
        "import matplotlib.pyplot as plt\n",
        "import numpy as np"
      ],
      "execution_count": 2,
      "outputs": []
    },
    {
      "cell_type": "markdown",
      "metadata": {
        "id": "hAfsGdJ9eCja"
      },
      "source": [
        "### Implementing ShallowNet \n"
      ]
    },
    {
      "cell_type": "code",
      "metadata": {
        "id": "DwMuFmXPd1Aa"
      },
      "source": [
        "class ShallowNet:\n",
        "\t@staticmethod\n",
        "\tdef build(width, height, depth, classes):\n",
        "\t\t# initialize the model along with the input shape to be\n",
        "\t\t# \"channels last\"\n",
        "\t\tmodel = Sequential()\n",
        "\t\tinputShape = (height, width, depth)\n",
        "\n",
        "\t\t# if we are using \"channels first\", update the input shape\n",
        "\t\tif K.image_data_format() == \"channels_first\":\n",
        "\t\t\tinputShape = (depth, height, width)\n",
        "\n",
        "\t\t# define the first (and only) CONV => RELU layer\n",
        "\t\tmodel.add(Conv2D(32, (3, 3), padding=\"same\",\n",
        "\t\t\tinput_shape=inputShape))\n",
        "\t\tmodel.add(Activation(\"relu\"))\n",
        "\n",
        "\t\t# softmax classifier\n",
        "\t\tmodel.add(Flatten())\n",
        "\t\tmodel.add(Dense(classes))\n",
        "\t\tmodel.add(Activation(\"softmax\"))\n",
        "\n",
        "\t\t# return the constructed network architecture\n",
        "\t\treturn model"
      ],
      "execution_count": 3,
      "outputs": []
    },
    {
      "cell_type": "markdown",
      "metadata": {
        "id": "FdfY-xw3fToh"
      },
      "source": [
        "### ShallowNet on Animals"
      ]
    },
    {
      "cell_type": "code",
      "metadata": {
        "id": "_gTqebWnfKmh",
        "colab": {
          "base_uri": "https://localhost:8080/"
        },
        "outputId": "7340cd08-e2f1-40cc-a972-7f34866b432c"
      },
      "source": [
        "# grab the list of images that we'll be describing\n",
        "print(\"[INFO] loading images...\")\n",
        "imagePaths = list(paths.list_images(\"animals\"))"
      ],
      "execution_count": 4,
      "outputs": [
        {
          "output_type": "stream",
          "text": [
            "[INFO] loading images...\n"
          ],
          "name": "stdout"
        }
      ]
    },
    {
      "cell_type": "code",
      "metadata": {
        "id": "RZsyVbi9h-zw",
        "colab": {
          "base_uri": "https://localhost:8080/"
        },
        "outputId": "56dfc12e-056f-4ded-9cbd-de377ca78056"
      },
      "source": [
        "# initialize the image preprocessors\n",
        "sp = SimplePreprocessor(32, 32)\n",
        "iap = ImageToArrayPreprocessor()\n",
        "\n",
        "# load the dataset from disk then scale the raw pixel intensities\n",
        "# to the range [0, 1]\n",
        "sdl = SimpleDatasetLoader(preprocessors=[sp, iap])\n",
        "(data, labels) = sdl.load(imagePaths, verbose=500)\n",
        "data = data.astype(\"float\") / 255.0"
      ],
      "execution_count": 5,
      "outputs": [
        {
          "output_type": "stream",
          "text": [
            "[INFO] processed 500/3000\n",
            "[INFO] processed 1000/3000\n",
            "[INFO] processed 1500/3000\n",
            "[INFO] processed 2000/3000\n",
            "[INFO] processed 2500/3000\n",
            "[INFO] processed 3000/3000\n"
          ],
          "name": "stdout"
        }
      ]
    },
    {
      "cell_type": "code",
      "metadata": {
        "id": "l9OTeOy0iIDf"
      },
      "source": [
        "# partition the data into training and testing splits using 75% of\n",
        "# the data for training and the remaining 25% for testing\n",
        "(trainX, testX, trainY, testY) = train_test_split(data, labels,\n",
        "\ttest_size=0.25, random_state=42)\n",
        "\n",
        "# convert the labels from integers to vectors\n",
        "trainY = LabelBinarizer().fit_transform(trainY)\n",
        "testY = LabelBinarizer().fit_transform(testY)"
      ],
      "execution_count": 6,
      "outputs": []
    },
    {
      "cell_type": "code",
      "metadata": {
        "id": "gQBCHnW5iQrA",
        "colab": {
          "base_uri": "https://localhost:8080/"
        },
        "outputId": "84fde3ca-cec1-43b9-a219-e069fdb93cbd"
      },
      "source": [
        "# initialize the optimizer and model\n",
        "print(\"[INFO] compiling model...\")\n",
        "opt = SGD(lr=0.005)\n",
        "model = ShallowNet.build(width=32, height=32, depth=3, classes=3)\n",
        "model.compile(loss=\"categorical_crossentropy\", optimizer=opt,\n",
        "\tmetrics=[\"accuracy\"])\n",
        "\n",
        "# train the network\n",
        "print(\"[INFO] training network...\")\n",
        "H = model.fit(trainX, trainY, validation_data=(testX, testY),\n",
        "\tbatch_size=32, epochs=100, verbose=1)"
      ],
      "execution_count": 7,
      "outputs": [
        {
          "output_type": "stream",
          "text": [
            "[INFO] compiling model...\n"
          ],
          "name": "stdout"
        },
        {
          "output_type": "stream",
          "text": [
            "/usr/local/lib/python3.7/dist-packages/keras/optimizer_v2/optimizer_v2.py:356: UserWarning: The `lr` argument is deprecated, use `learning_rate` instead.\n",
            "  \"The `lr` argument is deprecated, use `learning_rate` instead.\")\n"
          ],
          "name": "stderr"
        },
        {
          "output_type": "stream",
          "text": [
            "[INFO] training network...\n",
            "Epoch 1/100\n",
            "71/71 [==============================] - 16s 10ms/step - loss: 1.0423 - accuracy: 0.4582 - val_loss: 0.9375 - val_accuracy: 0.5267\n",
            "Epoch 2/100\n",
            "71/71 [==============================] - 0s 5ms/step - loss: 0.9204 - accuracy: 0.5378 - val_loss: 1.0018 - val_accuracy: 0.5360\n",
            "Epoch 3/100\n",
            "71/71 [==============================] - 0s 4ms/step - loss: 0.8933 - accuracy: 0.5547 - val_loss: 0.9001 - val_accuracy: 0.5680\n",
            "Epoch 4/100\n",
            "71/71 [==============================] - 0s 5ms/step - loss: 0.8649 - accuracy: 0.5640 - val_loss: 0.9190 - val_accuracy: 0.5413\n",
            "Epoch 5/100\n",
            "71/71 [==============================] - 0s 5ms/step - loss: 0.8498 - accuracy: 0.5809 - val_loss: 0.8808 - val_accuracy: 0.5467\n",
            "Epoch 6/100\n",
            "71/71 [==============================] - 0s 4ms/step - loss: 0.8319 - accuracy: 0.5867 - val_loss: 1.0105 - val_accuracy: 0.5133\n",
            "Epoch 7/100\n",
            "71/71 [==============================] - 0s 5ms/step - loss: 0.8114 - accuracy: 0.6080 - val_loss: 0.8350 - val_accuracy: 0.5920\n",
            "Epoch 8/100\n",
            "71/71 [==============================] - 0s 5ms/step - loss: 0.8040 - accuracy: 0.6182 - val_loss: 0.9154 - val_accuracy: 0.5373\n",
            "Epoch 9/100\n",
            "71/71 [==============================] - 0s 5ms/step - loss: 0.7922 - accuracy: 0.6196 - val_loss: 0.8859 - val_accuracy: 0.5627\n",
            "Epoch 10/100\n",
            "71/71 [==============================] - 0s 5ms/step - loss: 0.7887 - accuracy: 0.6160 - val_loss: 0.8073 - val_accuracy: 0.5907\n",
            "Epoch 11/100\n",
            "71/71 [==============================] - 0s 5ms/step - loss: 0.7759 - accuracy: 0.6302 - val_loss: 0.8455 - val_accuracy: 0.5813\n",
            "Epoch 12/100\n",
            "71/71 [==============================] - 0s 5ms/step - loss: 0.7648 - accuracy: 0.6547 - val_loss: 0.8164 - val_accuracy: 0.5907\n",
            "Epoch 13/100\n",
            "71/71 [==============================] - 0s 5ms/step - loss: 0.7599 - accuracy: 0.6462 - val_loss: 0.8081 - val_accuracy: 0.5867\n",
            "Epoch 14/100\n",
            "71/71 [==============================] - 0s 5ms/step - loss: 0.7548 - accuracy: 0.6476 - val_loss: 0.8414 - val_accuracy: 0.5760\n",
            "Epoch 15/100\n",
            "71/71 [==============================] - 0s 5ms/step - loss: 0.7567 - accuracy: 0.6413 - val_loss: 0.8083 - val_accuracy: 0.5973\n",
            "Epoch 16/100\n",
            "71/71 [==============================] - 0s 5ms/step - loss: 0.7366 - accuracy: 0.6662 - val_loss: 0.7993 - val_accuracy: 0.5920\n",
            "Epoch 17/100\n",
            "71/71 [==============================] - 0s 5ms/step - loss: 0.7415 - accuracy: 0.6618 - val_loss: 0.7851 - val_accuracy: 0.6040\n",
            "Epoch 18/100\n",
            "71/71 [==============================] - 0s 5ms/step - loss: 0.7264 - accuracy: 0.6702 - val_loss: 0.7863 - val_accuracy: 0.6080\n",
            "Epoch 19/100\n",
            "71/71 [==============================] - 0s 6ms/step - loss: 0.7207 - accuracy: 0.6724 - val_loss: 0.8396 - val_accuracy: 0.5747\n",
            "Epoch 20/100\n",
            "71/71 [==============================] - 0s 5ms/step - loss: 0.7214 - accuracy: 0.6618 - val_loss: 0.7839 - val_accuracy: 0.6013\n",
            "Epoch 21/100\n",
            "71/71 [==============================] - 0s 7ms/step - loss: 0.7123 - accuracy: 0.6796 - val_loss: 0.8043 - val_accuracy: 0.5920\n",
            "Epoch 22/100\n",
            "71/71 [==============================] - 0s 6ms/step - loss: 0.7045 - accuracy: 0.6822 - val_loss: 0.9945 - val_accuracy: 0.4973\n",
            "Epoch 23/100\n",
            "71/71 [==============================] - 0s 5ms/step - loss: 0.7021 - accuracy: 0.6844 - val_loss: 0.7666 - val_accuracy: 0.6067\n",
            "Epoch 24/100\n",
            "71/71 [==============================] - 0s 6ms/step - loss: 0.6902 - accuracy: 0.6893 - val_loss: 0.7969 - val_accuracy: 0.5973\n",
            "Epoch 25/100\n",
            "71/71 [==============================] - 0s 5ms/step - loss: 0.6824 - accuracy: 0.6929 - val_loss: 0.7663 - val_accuracy: 0.6213\n",
            "Epoch 26/100\n",
            "71/71 [==============================] - 0s 5ms/step - loss: 0.6816 - accuracy: 0.7036 - val_loss: 0.8485 - val_accuracy: 0.5800\n",
            "Epoch 27/100\n",
            "71/71 [==============================] - 0s 5ms/step - loss: 0.6733 - accuracy: 0.7013 - val_loss: 0.7713 - val_accuracy: 0.6067\n",
            "Epoch 28/100\n",
            "71/71 [==============================] - 0s 5ms/step - loss: 0.6622 - accuracy: 0.7093 - val_loss: 0.8103 - val_accuracy: 0.6067\n",
            "Epoch 29/100\n",
            "71/71 [==============================] - 0s 6ms/step - loss: 0.6596 - accuracy: 0.7209 - val_loss: 0.7749 - val_accuracy: 0.6133\n",
            "Epoch 30/100\n",
            "71/71 [==============================] - 0s 5ms/step - loss: 0.6491 - accuracy: 0.7151 - val_loss: 0.7553 - val_accuracy: 0.6320\n",
            "Epoch 31/100\n",
            "71/71 [==============================] - 0s 5ms/step - loss: 0.6440 - accuracy: 0.7178 - val_loss: 0.7475 - val_accuracy: 0.6400\n",
            "Epoch 32/100\n",
            "71/71 [==============================] - 0s 5ms/step - loss: 0.6377 - accuracy: 0.7302 - val_loss: 0.7526 - val_accuracy: 0.6227\n",
            "Epoch 33/100\n",
            "71/71 [==============================] - 0s 5ms/step - loss: 0.6305 - accuracy: 0.7276 - val_loss: 0.7860 - val_accuracy: 0.6120\n",
            "Epoch 34/100\n",
            "71/71 [==============================] - 0s 5ms/step - loss: 0.6269 - accuracy: 0.7360 - val_loss: 0.7685 - val_accuracy: 0.6133\n",
            "Epoch 35/100\n",
            "71/71 [==============================] - 0s 6ms/step - loss: 0.6231 - accuracy: 0.7218 - val_loss: 0.7536 - val_accuracy: 0.6280\n",
            "Epoch 36/100\n",
            "71/71 [==============================] - 0s 5ms/step - loss: 0.6184 - accuracy: 0.7302 - val_loss: 0.8788 - val_accuracy: 0.5680\n",
            "Epoch 37/100\n",
            "71/71 [==============================] - 0s 5ms/step - loss: 0.6164 - accuracy: 0.7378 - val_loss: 0.8144 - val_accuracy: 0.6067\n",
            "Epoch 38/100\n",
            "71/71 [==============================] - 0s 5ms/step - loss: 0.6084 - accuracy: 0.7404 - val_loss: 0.7592 - val_accuracy: 0.6160\n",
            "Epoch 39/100\n",
            "71/71 [==============================] - 0s 5ms/step - loss: 0.5954 - accuracy: 0.7453 - val_loss: 0.8324 - val_accuracy: 0.5907\n",
            "Epoch 40/100\n",
            "71/71 [==============================] - 0s 5ms/step - loss: 0.5925 - accuracy: 0.7596 - val_loss: 0.8139 - val_accuracy: 0.5947\n",
            "Epoch 41/100\n",
            "71/71 [==============================] - 0s 6ms/step - loss: 0.5874 - accuracy: 0.7542 - val_loss: 0.7425 - val_accuracy: 0.6333\n",
            "Epoch 42/100\n",
            "71/71 [==============================] - 0s 5ms/step - loss: 0.5869 - accuracy: 0.7560 - val_loss: 0.7262 - val_accuracy: 0.6480\n",
            "Epoch 43/100\n",
            "71/71 [==============================] - 0s 6ms/step - loss: 0.5762 - accuracy: 0.7600 - val_loss: 0.7668 - val_accuracy: 0.6253\n",
            "Epoch 44/100\n",
            "71/71 [==============================] - 0s 5ms/step - loss: 0.5636 - accuracy: 0.7693 - val_loss: 0.7763 - val_accuracy: 0.6187\n",
            "Epoch 45/100\n",
            "71/71 [==============================] - 0s 5ms/step - loss: 0.5649 - accuracy: 0.7551 - val_loss: 0.7382 - val_accuracy: 0.6347\n",
            "Epoch 46/100\n",
            "71/71 [==============================] - 0s 5ms/step - loss: 0.5573 - accuracy: 0.7698 - val_loss: 0.7546 - val_accuracy: 0.6333\n",
            "Epoch 47/100\n",
            "71/71 [==============================] - 0s 5ms/step - loss: 0.5533 - accuracy: 0.7720 - val_loss: 0.7429 - val_accuracy: 0.6413\n",
            "Epoch 48/100\n",
            "71/71 [==============================] - 0s 5ms/step - loss: 0.5541 - accuracy: 0.7622 - val_loss: 0.8798 - val_accuracy: 0.5627\n",
            "Epoch 49/100\n",
            "71/71 [==============================] - 0s 5ms/step - loss: 0.5519 - accuracy: 0.7658 - val_loss: 0.7930 - val_accuracy: 0.6200\n",
            "Epoch 50/100\n",
            "71/71 [==============================] - 0s 5ms/step - loss: 0.5422 - accuracy: 0.7782 - val_loss: 0.7582 - val_accuracy: 0.6387\n",
            "Epoch 51/100\n",
            "71/71 [==============================] - 0s 5ms/step - loss: 0.5332 - accuracy: 0.7836 - val_loss: 0.8056 - val_accuracy: 0.6107\n",
            "Epoch 52/100\n",
            "71/71 [==============================] - 0s 5ms/step - loss: 0.5348 - accuracy: 0.7844 - val_loss: 0.7954 - val_accuracy: 0.6400\n",
            "Epoch 53/100\n",
            "71/71 [==============================] - 0s 5ms/step - loss: 0.5236 - accuracy: 0.7884 - val_loss: 0.8910 - val_accuracy: 0.5853\n",
            "Epoch 54/100\n",
            "71/71 [==============================] - 0s 6ms/step - loss: 0.5176 - accuracy: 0.7938 - val_loss: 0.7293 - val_accuracy: 0.6413\n",
            "Epoch 55/100\n",
            "71/71 [==============================] - 0s 5ms/step - loss: 0.5245 - accuracy: 0.7889 - val_loss: 0.7584 - val_accuracy: 0.6213\n",
            "Epoch 56/100\n",
            "71/71 [==============================] - 0s 4ms/step - loss: 0.5143 - accuracy: 0.7942 - val_loss: 0.7673 - val_accuracy: 0.6093\n",
            "Epoch 57/100\n",
            "71/71 [==============================] - 0s 5ms/step - loss: 0.5067 - accuracy: 0.7924 - val_loss: 0.8398 - val_accuracy: 0.5867\n",
            "Epoch 58/100\n",
            "71/71 [==============================] - 0s 5ms/step - loss: 0.5017 - accuracy: 0.8027 - val_loss: 0.7259 - val_accuracy: 0.6440\n",
            "Epoch 59/100\n",
            "71/71 [==============================] - 0s 5ms/step - loss: 0.4938 - accuracy: 0.8067 - val_loss: 0.7331 - val_accuracy: 0.6467\n",
            "Epoch 60/100\n",
            "71/71 [==============================] - 0s 4ms/step - loss: 0.4910 - accuracy: 0.8084 - val_loss: 0.7504 - val_accuracy: 0.6267\n",
            "Epoch 61/100\n",
            "71/71 [==============================] - 0s 5ms/step - loss: 0.4887 - accuracy: 0.8062 - val_loss: 0.7790 - val_accuracy: 0.6067\n",
            "Epoch 62/100\n",
            "71/71 [==============================] - 0s 5ms/step - loss: 0.4825 - accuracy: 0.8151 - val_loss: 0.7409 - val_accuracy: 0.6360\n",
            "Epoch 63/100\n",
            "71/71 [==============================] - 1s 7ms/step - loss: 0.4779 - accuracy: 0.8164 - val_loss: 0.7881 - val_accuracy: 0.6187\n",
            "Epoch 64/100\n",
            "71/71 [==============================] - 0s 5ms/step - loss: 0.4750 - accuracy: 0.8253 - val_loss: 0.7542 - val_accuracy: 0.6467\n",
            "Epoch 65/100\n",
            "71/71 [==============================] - 0s 5ms/step - loss: 0.4674 - accuracy: 0.8280 - val_loss: 0.7466 - val_accuracy: 0.6413\n",
            "Epoch 66/100\n",
            "71/71 [==============================] - 0s 5ms/step - loss: 0.4652 - accuracy: 0.8187 - val_loss: 0.8169 - val_accuracy: 0.6280\n",
            "Epoch 67/100\n",
            "71/71 [==============================] - 0s 5ms/step - loss: 0.4630 - accuracy: 0.8249 - val_loss: 0.8113 - val_accuracy: 0.6320\n",
            "Epoch 68/100\n",
            "71/71 [==============================] - 0s 5ms/step - loss: 0.4597 - accuracy: 0.8240 - val_loss: 0.7653 - val_accuracy: 0.6213\n",
            "Epoch 69/100\n",
            "71/71 [==============================] - 0s 5ms/step - loss: 0.4490 - accuracy: 0.8316 - val_loss: 0.7213 - val_accuracy: 0.6520\n",
            "Epoch 70/100\n",
            "71/71 [==============================] - 0s 5ms/step - loss: 0.4468 - accuracy: 0.8307 - val_loss: 0.7186 - val_accuracy: 0.6693\n",
            "Epoch 71/100\n",
            "71/71 [==============================] - 0s 6ms/step - loss: 0.4447 - accuracy: 0.8333 - val_loss: 0.7943 - val_accuracy: 0.6400\n",
            "Epoch 72/100\n",
            "71/71 [==============================] - 0s 5ms/step - loss: 0.4409 - accuracy: 0.8360 - val_loss: 0.7333 - val_accuracy: 0.6480\n",
            "Epoch 73/100\n",
            "71/71 [==============================] - 0s 5ms/step - loss: 0.4380 - accuracy: 0.8324 - val_loss: 0.7174 - val_accuracy: 0.6573\n",
            "Epoch 74/100\n",
            "71/71 [==============================] - 0s 5ms/step - loss: 0.4349 - accuracy: 0.8338 - val_loss: 0.7076 - val_accuracy: 0.6640\n",
            "Epoch 75/100\n",
            "71/71 [==============================] - 0s 5ms/step - loss: 0.4359 - accuracy: 0.8382 - val_loss: 0.8203 - val_accuracy: 0.6147\n",
            "Epoch 76/100\n",
            "71/71 [==============================] - 0s 6ms/step - loss: 0.4218 - accuracy: 0.8440 - val_loss: 0.7307 - val_accuracy: 0.6613\n",
            "Epoch 77/100\n",
            "71/71 [==============================] - 0s 6ms/step - loss: 0.4223 - accuracy: 0.8476 - val_loss: 0.7947 - val_accuracy: 0.6240\n",
            "Epoch 78/100\n",
            "71/71 [==============================] - 0s 5ms/step - loss: 0.4189 - accuracy: 0.8467 - val_loss: 0.7541 - val_accuracy: 0.6320\n",
            "Epoch 79/100\n",
            "71/71 [==============================] - 0s 5ms/step - loss: 0.4134 - accuracy: 0.8440 - val_loss: 0.8229 - val_accuracy: 0.6200\n",
            "Epoch 80/100\n",
            "71/71 [==============================] - 0s 5ms/step - loss: 0.4072 - accuracy: 0.8520 - val_loss: 0.7908 - val_accuracy: 0.6507\n",
            "Epoch 81/100\n",
            "71/71 [==============================] - 0s 5ms/step - loss: 0.4074 - accuracy: 0.8489 - val_loss: 0.7369 - val_accuracy: 0.6613\n",
            "Epoch 82/100\n",
            "71/71 [==============================] - 0s 5ms/step - loss: 0.4038 - accuracy: 0.8511 - val_loss: 0.7226 - val_accuracy: 0.6373\n",
            "Epoch 83/100\n",
            "71/71 [==============================] - 0s 5ms/step - loss: 0.3953 - accuracy: 0.8591 - val_loss: 0.7030 - val_accuracy: 0.6613\n",
            "Epoch 84/100\n",
            "71/71 [==============================] - 0s 5ms/step - loss: 0.3944 - accuracy: 0.8533 - val_loss: 0.7353 - val_accuracy: 0.6707\n",
            "Epoch 85/100\n",
            "71/71 [==============================] - 0s 5ms/step - loss: 0.3937 - accuracy: 0.8604 - val_loss: 0.7949 - val_accuracy: 0.6387\n",
            "Epoch 86/100\n",
            "71/71 [==============================] - 0s 5ms/step - loss: 0.3932 - accuracy: 0.8631 - val_loss: 0.7095 - val_accuracy: 0.6653\n",
            "Epoch 87/100\n",
            "71/71 [==============================] - 0s 5ms/step - loss: 0.3799 - accuracy: 0.8618 - val_loss: 0.7122 - val_accuracy: 0.6720\n",
            "Epoch 88/100\n",
            "71/71 [==============================] - 0s 5ms/step - loss: 0.3840 - accuracy: 0.8578 - val_loss: 0.7192 - val_accuracy: 0.6627\n",
            "Epoch 89/100\n",
            "71/71 [==============================] - 0s 5ms/step - loss: 0.3825 - accuracy: 0.8618 - val_loss: 0.7604 - val_accuracy: 0.6467\n",
            "Epoch 90/100\n",
            "71/71 [==============================] - 0s 5ms/step - loss: 0.3765 - accuracy: 0.8676 - val_loss: 0.7766 - val_accuracy: 0.6413\n",
            "Epoch 91/100\n",
            "71/71 [==============================] - 0s 5ms/step - loss: 0.3676 - accuracy: 0.8720 - val_loss: 0.8048 - val_accuracy: 0.6280\n",
            "Epoch 92/100\n",
            "71/71 [==============================] - 0s 5ms/step - loss: 0.3709 - accuracy: 0.8747 - val_loss: 0.7480 - val_accuracy: 0.6333\n",
            "Epoch 93/100\n",
            "71/71 [==============================] - 0s 5ms/step - loss: 0.3616 - accuracy: 0.8764 - val_loss: 0.7779 - val_accuracy: 0.6587\n",
            "Epoch 94/100\n",
            "71/71 [==============================] - 0s 6ms/step - loss: 0.3635 - accuracy: 0.8751 - val_loss: 0.7345 - val_accuracy: 0.6547\n",
            "Epoch 95/100\n",
            "71/71 [==============================] - 0s 5ms/step - loss: 0.3705 - accuracy: 0.8716 - val_loss: 0.7533 - val_accuracy: 0.6533\n",
            "Epoch 96/100\n",
            "71/71 [==============================] - 0s 5ms/step - loss: 0.3560 - accuracy: 0.8836 - val_loss: 0.7245 - val_accuracy: 0.6653\n",
            "Epoch 97/100\n",
            "71/71 [==============================] - 0s 7ms/step - loss: 0.3538 - accuracy: 0.8738 - val_loss: 0.7496 - val_accuracy: 0.6533\n",
            "Epoch 98/100\n",
            "71/71 [==============================] - 0s 6ms/step - loss: 0.3482 - accuracy: 0.8813 - val_loss: 0.7295 - val_accuracy: 0.6720\n",
            "Epoch 99/100\n",
            "71/71 [==============================] - 0s 6ms/step - loss: 0.3480 - accuracy: 0.8809 - val_loss: 0.7304 - val_accuracy: 0.6480\n",
            "Epoch 100/100\n",
            "71/71 [==============================] - 0s 6ms/step - loss: 0.3435 - accuracy: 0.8844 - val_loss: 0.7308 - val_accuracy: 0.6693\n"
          ],
          "name": "stdout"
        }
      ]
    },
    {
      "cell_type": "code",
      "metadata": {
        "id": "qH9SDbuAiYsf",
        "colab": {
          "base_uri": "https://localhost:8080/"
        },
        "outputId": "55c38467-c33b-4b1c-97e1-34f6e656b28b"
      },
      "source": [
        "# evaluate the network\n",
        "print(\"[INFO] evaluating network...\")\n",
        "predictions = model.predict(testX, batch_size=32)\n",
        "print(classification_report(testY.argmax(axis=1),\n",
        "\tpredictions.argmax(axis=1),\n",
        "\ttarget_names=[\"cat\", \"dog\", \"panda\"]))"
      ],
      "execution_count": 8,
      "outputs": [
        {
          "output_type": "stream",
          "text": [
            "[INFO] evaluating network...\n",
            "              precision    recall  f1-score   support\n",
            "\n",
            "         cat       0.58      0.66      0.62       262\n",
            "         dog       0.60      0.45      0.52       249\n",
            "       panda       0.81      0.90      0.85       239\n",
            "\n",
            "    accuracy                           0.67       750\n",
            "   macro avg       0.67      0.67      0.66       750\n",
            "weighted avg       0.66      0.67      0.66       750\n",
            "\n"
          ],
          "name": "stdout"
        }
      ]
    },
    {
      "cell_type": "code",
      "metadata": {
        "id": "0XAPvYEiibaN",
        "colab": {
          "base_uri": "https://localhost:8080/",
          "height": 299
        },
        "outputId": "0912979a-bb63-4142-ad92-258953c09350"
      },
      "source": [
        "plt.style.use(\"ggplot\")\n",
        "plt.figure()\n",
        "plt.plot(np.arange(0, 100), H.history[\"loss\"], label=\"train_loss\")\n",
        "plt.plot(np.arange(0, 100), H.history[\"val_loss\"], label=\"val_loss\")\n",
        "plt.plot(np.arange(0, 100), H.history[\"accuracy\"], label=\"train_acc\")\n",
        "plt.plot(np.arange(0, 100), H.history[\"val_accuracy\"], label=\"val_acc\")\n",
        "plt.title(\"Training Loss and Accuracy\")\n",
        "plt.xlabel(\"Epoch #\")\n",
        "plt.ylabel(\"Loss/Accuracy\")\n",
        "plt.legend()\n",
        "plt.show()"
      ],
      "execution_count": 9,
      "outputs": [
        {
          "output_type": "display_data",
          "data": {
            "image/png": "[encoded data removed]",
            "text/plain": [
              "<Figure size 432x288 with 1 Axes>"
            ]
          },
          "metadata": {}
        }
      ]
    },
    {
      "cell_type": "code",
      "metadata": {
        "id": "JhioebhWidn-",
        "colab": {
          "base_uri": "https://localhost:8080/"
        },
        "outputId": "df0ed64a-32c4-455a-8c5d-a420b6329be1"
      },
      "source": [
        "# load the training and testing data, then scale it into the\n",
        "# range [0, 1]\n",
        "print(\"[INFO] loading CIFAR-10 data...\")\n",
        "((trainX, trainY), (testX, testY)) = cifar10.load_data()\n",
        "trainX = trainX.astype(\"float\") / 255.0\n",
        "testX = testX.astype(\"float\") / 255.0\n",
        "\n",
        "# convert the labels from integers to vectors\n",
        "lb = LabelBinarizer()\n",
        "trainY = lb.fit_transform(trainY)\n",
        "testY = lb.transform(testY)\n",
        "\n",
        "# initialize the label names for the CIFAR-10 dataset\n",
        "labelNames = [\"airplane\", \"automobile\", \"bird\", \"cat\", \"deer\",\n",
        "\t\"dog\", \"frog\", \"horse\", \"ship\", \"truck\"]"
      ],
      "execution_count": 10,
      "outputs": [
        {
          "output_type": "stream",
          "text": [
            "[INFO] loading CIFAR-10 data...\n",
            "Downloading data from https://www.cs.toronto.edu/~kriz/cifar-10-python.tar.gz\n",
            "170500096/170498071 [==============================] - 4s 0us/step\n",
            "170508288/170498071 [==============================] - 4s 0us/step\n"
          ],
          "name": "stdout"
        }
      ]
    },
    {
      "cell_type": "code",
      "metadata": {
        "id": "-houRI12irVW",
        "colab": {
          "base_uri": "https://localhost:8080/"
        },
        "outputId": "0f0e0d49-e63a-4255-af92-e71b859abf63"
      },
      "source": [
        "# initialize the optimizer and model\n",
        "print(\"[INFO] compiling model...\")\n",
        "opt = SGD(lr=0.01)\n",
        "model = ShallowNet.build(width=32, height=32, depth=3, classes=10)\n",
        "model.compile(loss=\"categorical_crossentropy\", optimizer=opt,\n",
        "\tmetrics=[\"accuracy\"])\n",
        "\n",
        "# train the network\n",
        "print(\"[INFO] training network...\")\n",
        "H = model.fit(trainX, trainY, validation_data=(testX, testY),\n",
        "\tbatch_size=32, epochs=40, verbose=1)"
      ],
      "execution_count": 11,
      "outputs": [
        {
          "output_type": "stream",
          "text": [
            "[INFO] compiling model...\n",
            "[INFO] training network...\n"
          ],
          "name": "stdout"
        },
        {
          "output_type": "stream",
          "text": [
            "/usr/local/lib/python3.7/dist-packages/keras/optimizer_v2/optimizer_v2.py:356: UserWarning: The `lr` argument is deprecated, use `learning_rate` instead.\n",
            "  \"The `lr` argument is deprecated, use `learning_rate` instead.\")\n"
          ],
          "name": "stderr"
        },
        {
          "output_type": "stream",
          "text": [
            "Epoch 1/40\n",
            "1563/1563 [==============================] - 8s 5ms/step - loss: 1.8131 - accuracy: 0.3637 - val_loss: 1.7092 - val_accuracy: 0.3899\n",
            "Epoch 2/40\n",
            "1563/1563 [==============================] - 7s 5ms/step - loss: 1.5575 - accuracy: 0.4575 - val_loss: 1.5115 - val_accuracy: 0.4595\n",
            "Epoch 3/40\n",
            "1563/1563 [==============================] - 6s 4ms/step - loss: 1.4127 - accuracy: 0.5045 - val_loss: 1.4424 - val_accuracy: 0.4895\n",
            "Epoch 4/40\n",
            "1563/1563 [==============================] - 7s 4ms/step - loss: 1.3234 - accuracy: 0.5361 - val_loss: 1.3220 - val_accuracy: 0.5326\n",
            "Epoch 5/40\n",
            "1563/1563 [==============================] - 7s 4ms/step - loss: 1.2663 - accuracy: 0.5588 - val_loss: 1.2965 - val_accuracy: 0.5342\n",
            "Epoch 6/40\n",
            "1563/1563 [==============================] - 7s 4ms/step - loss: 1.2250 - accuracy: 0.5734 - val_loss: 1.3005 - val_accuracy: 0.5321\n",
            "Epoch 7/40\n",
            "1563/1563 [==============================] - 7s 5ms/step - loss: 1.1951 - accuracy: 0.5840 - val_loss: 1.3612 - val_accuracy: 0.5212\n",
            "Epoch 8/40\n",
            "1563/1563 [==============================] - 7s 4ms/step - loss: 1.1650 - accuracy: 0.5926 - val_loss: 1.2685 - val_accuracy: 0.5542\n",
            "Epoch 9/40\n",
            "1563/1563 [==============================] - 7s 4ms/step - loss: 1.1410 - accuracy: 0.6022 - val_loss: 1.2739 - val_accuracy: 0.5478\n",
            "Epoch 10/40\n",
            "1563/1563 [==============================] - 7s 4ms/step - loss: 1.1185 - accuracy: 0.6121 - val_loss: 1.2620 - val_accuracy: 0.5605\n",
            "Epoch 11/40\n",
            "1563/1563 [==============================] - 7s 5ms/step - loss: 1.0957 - accuracy: 0.6197 - val_loss: 1.2394 - val_accuracy: 0.5628\n",
            "Epoch 12/40\n",
            "1563/1563 [==============================] - 7s 4ms/step - loss: 1.0728 - accuracy: 0.6269 - val_loss: 1.2882 - val_accuracy: 0.5421\n",
            "Epoch 13/40\n",
            "1563/1563 [==============================] - 7s 4ms/step - loss: 1.0508 - accuracy: 0.6361 - val_loss: 1.2743 - val_accuracy: 0.5549\n",
            "Epoch 14/40\n",
            "1563/1563 [==============================] - 7s 5ms/step - loss: 1.0289 - accuracy: 0.6427 - val_loss: 1.2409 - val_accuracy: 0.5625\n",
            "Epoch 15/40\n",
            "1563/1563 [==============================] - 6s 4ms/step - loss: 1.0107 - accuracy: 0.6506 - val_loss: 1.1976 - val_accuracy: 0.5831\n",
            "Epoch 16/40\n",
            "1563/1563 [==============================] - 7s 4ms/step - loss: 0.9915 - accuracy: 0.6582 - val_loss: 1.2229 - val_accuracy: 0.5735\n",
            "Epoch 17/40\n",
            "1563/1563 [==============================] - 7s 4ms/step - loss: 0.9705 - accuracy: 0.6651 - val_loss: 1.1933 - val_accuracy: 0.5829\n",
            "Epoch 18/40\n",
            "1563/1563 [==============================] - 7s 5ms/step - loss: 0.9526 - accuracy: 0.6686 - val_loss: 1.1604 - val_accuracy: 0.5922\n",
            "Epoch 19/40\n",
            "1563/1563 [==============================] - 7s 5ms/step - loss: 0.9337 - accuracy: 0.6791 - val_loss: 1.2516 - val_accuracy: 0.5762\n",
            "Epoch 20/40\n",
            "1563/1563 [==============================] - 7s 4ms/step - loss: 0.9171 - accuracy: 0.6829 - val_loss: 1.1865 - val_accuracy: 0.5919\n",
            "Epoch 21/40\n",
            "1563/1563 [==============================] - 7s 4ms/step - loss: 0.8986 - accuracy: 0.6913 - val_loss: 1.2095 - val_accuracy: 0.5777\n",
            "Epoch 22/40\n",
            "1563/1563 [==============================] - 7s 4ms/step - loss: 0.8837 - accuracy: 0.6978 - val_loss: 1.1689 - val_accuracy: 0.5968\n",
            "Epoch 23/40\n",
            "1563/1563 [==============================] - 7s 5ms/step - loss: 0.8665 - accuracy: 0.7018 - val_loss: 1.1798 - val_accuracy: 0.5888\n",
            "Epoch 24/40\n",
            "1563/1563 [==============================] - 7s 4ms/step - loss: 0.8485 - accuracy: 0.7076 - val_loss: 1.1863 - val_accuracy: 0.5945\n",
            "Epoch 25/40\n",
            "1563/1563 [==============================] - 7s 4ms/step - loss: 0.8353 - accuracy: 0.7140 - val_loss: 1.1626 - val_accuracy: 0.6030\n",
            "Epoch 26/40\n",
            "1563/1563 [==============================] - 7s 5ms/step - loss: 0.8202 - accuracy: 0.7191 - val_loss: 1.1911 - val_accuracy: 0.5957\n",
            "Epoch 27/40\n",
            "1563/1563 [==============================] - 7s 4ms/step - loss: 0.8064 - accuracy: 0.7240 - val_loss: 1.1983 - val_accuracy: 0.5916\n",
            "Epoch 28/40\n",
            "1563/1563 [==============================] - 7s 5ms/step - loss: 0.7944 - accuracy: 0.7269 - val_loss: 1.1435 - val_accuracy: 0.6051\n",
            "Epoch 29/40\n",
            "1563/1563 [==============================] - 7s 5ms/step - loss: 0.7784 - accuracy: 0.7331 - val_loss: 1.1779 - val_accuracy: 0.5995\n",
            "Epoch 30/40\n",
            "1563/1563 [==============================] - 6s 4ms/step - loss: 0.7676 - accuracy: 0.7366 - val_loss: 1.2710 - val_accuracy: 0.5784\n",
            "Epoch 31/40\n",
            "1563/1563 [==============================] - 7s 5ms/step - loss: 0.7533 - accuracy: 0.7427 - val_loss: 1.1632 - val_accuracy: 0.6029\n",
            "Epoch 32/40\n",
            "1563/1563 [==============================] - 8s 5ms/step - loss: 0.7416 - accuracy: 0.7467 - val_loss: 1.3046 - val_accuracy: 0.5675\n",
            "Epoch 33/40\n",
            "1563/1563 [==============================] - 7s 4ms/step - loss: 0.7289 - accuracy: 0.7513 - val_loss: 1.2019 - val_accuracy: 0.5916\n",
            "Epoch 34/40\n",
            "1563/1563 [==============================] - 6s 4ms/step - loss: 0.7141 - accuracy: 0.7559 - val_loss: 1.3113 - val_accuracy: 0.5717\n",
            "Epoch 35/40\n",
            "1563/1563 [==============================] - 7s 5ms/step - loss: 0.7039 - accuracy: 0.7600 - val_loss: 1.2994 - val_accuracy: 0.5881\n",
            "Epoch 36/40\n",
            "1563/1563 [==============================] - 7s 4ms/step - loss: 0.6924 - accuracy: 0.7630 - val_loss: 1.1997 - val_accuracy: 0.6071\n",
            "Epoch 37/40\n",
            "1563/1563 [==============================] - 6s 4ms/step - loss: 0.6834 - accuracy: 0.7672 - val_loss: 1.2127 - val_accuracy: 0.5978\n",
            "Epoch 38/40\n",
            "1563/1563 [==============================] - 7s 5ms/step - loss: 0.6736 - accuracy: 0.7713 - val_loss: 1.2372 - val_accuracy: 0.5927\n",
            "Epoch 39/40\n",
            "1563/1563 [==============================] - 7s 4ms/step - loss: 0.6619 - accuracy: 0.7768 - val_loss: 1.2840 - val_accuracy: 0.5952\n",
            "Epoch 40/40\n",
            "1563/1563 [==============================] - 7s 4ms/step - loss: 0.6512 - accuracy: 0.7786 - val_loss: 1.2079 - val_accuracy: 0.6032\n"
          ],
          "name": "stdout"
        }
      ]
    },
    {
      "cell_type": "code",
      "metadata": {
        "id": "Bw8G9mUmiufm",
        "colab": {
          "base_uri": "https://localhost:8080/"
        },
        "outputId": "90bdcb84-dc0e-4254-aa3e-9f6aa1cace35"
      },
      "source": [
        "# evaluate the network\n",
        "print(\"[INFO] evaluating network...\")\n",
        "predictions = model.predict(testX, batch_size=32)\n",
        "print(classification_report(testY.argmax(axis=1),\n",
        "\tpredictions.argmax(axis=1), target_names=labelNames))"
      ],
      "execution_count": 12,
      "outputs": [
        {
          "output_type": "stream",
          "text": [
            "[INFO] evaluating network...\n",
            "              precision    recall  f1-score   support\n",
            "\n",
            "    airplane       0.69      0.53      0.60      1000\n",
            "  automobile       0.75      0.72      0.73      1000\n",
            "        bird       0.39      0.58      0.47      1000\n",
            "         cat       0.39      0.53      0.45      1000\n",
            "        deer       0.66      0.42      0.51      1000\n",
            "         dog       0.60      0.39      0.47      1000\n",
            "        frog       0.69      0.74      0.71      1000\n",
            "       horse       0.68      0.68      0.68      1000\n",
            "        ship       0.71      0.73      0.72      1000\n",
            "       truck       0.68      0.72      0.70      1000\n",
            "\n",
            "    accuracy                           0.60     10000\n",
            "   macro avg       0.62      0.60      0.60     10000\n",
            "weighted avg       0.62      0.60      0.60     10000\n",
            "\n"
          ],
          "name": "stdout"
        }
      ]
    },
    {
      "cell_type": "code",
      "metadata": {
        "id": "FdAeWWXoiw3D",
        "colab": {
          "base_uri": "https://localhost:8080/",
          "height": 299
        },
        "outputId": "841d1252-c1c0-4619-b16f-e8f62affeeca"
      },
      "source": [
        "# plot the training loss and accuracy\n",
        "plt.style.use(\"ggplot\")\n",
        "plt.figure()\n",
        "plt.plot(np.arange(0, 40), H.history[\"loss\"], label=\"train_loss\")\n",
        "plt.plot(np.arange(0, 40), H.history[\"val_loss\"], label=\"val_loss\")\n",
        "plt.plot(np.arange(0, 40), H.history[\"accuracy\"], label=\"train_acc\")\n",
        "plt.plot(np.arange(0, 40), H.history[\"val_accuracy\"], label=\"val_acc\")\n",
        "plt.title(\"Training Loss and Accuracy\")\n",
        "plt.xlabel(\"Epoch #\")\n",
        "plt.ylabel(\"Loss/Accuracy\")\n",
        "plt.legend()\n",
        "plt.show()"
      ],
      "execution_count": 13,
      "outputs": [
        {
          "output_type": "display_data",
          "data": {
            "image/png": "[encoded data removed]",
            "text/plain": [
              "<Figure size 432x288 with 1 Axes>"
            ]
          },
          "metadata": {}
        }
      ]
    },
    {
      "cell_type": "markdown",
      "metadata": {
        "id": "iIK0y_52aETm"
      },
      "source": [
        "For a detailed walkthrough of the concepts and code, be sure to refer to the full tutorial, [*A gentle guide to training your first CNN with Keras and TensorFlow*](https://www.pyimagesearch.com/2021/05/22/a-gentle-guide-to-training-your-first-cnn-with-keras-and-tensorflow/) published on 2021-05-22."
      ]
    },
    {
      "cell_type": "markdown",
      "metadata": {
        "id": "hwMZ9cZaaLG4"
      },
      "source": [
        "# Code License Agreement\n",
        "```\n",
        "Copyright (c) 2021 PyImageSearch.com\n",
        "\n",
        "SIMPLE VERSION\n",
        "Feel free to use this code for your own projects, whether they are\n",
        "purely educational, for fun, or for profit. THE EXCEPTION BEING if\n",
        "you are developing a course, book, or other educational product.\n",
        "Under *NO CIRCUMSTANCE* may you use this code for your own paid\n",
        "educational or self-promotional ventures without written consent\n",
        "from Adrian Rosebrock and PyImageSearch.com.\n",
        "\n",
        "LONGER, FORMAL VERSION\n",
        "Permission is hereby granted, free of charge, to any person obtaining\n",
        "a copy of this software and associated documentation files\n",
        "(the \"Software\"), to deal in the Software without restriction,\n",
        "including without limitation the rights to use, copy, modify, merge,\n",
        "publish, distribute, sublicense, and/or sell copies of the Software,\n",
        "and to permit persons to whom the Software is furnished to do so,\n",
        "subject to the following conditions:\n",
        "The above copyright notice and this permission notice shall be\n",
        "included in all copies or substantial portions of the Software.\n",
        "Notwithstanding the foregoing, you may not use, copy, modify, merge,\n",
        "publish, distribute, sublicense, create a derivative work, and/or\n",
        "sell copies of the Software in any work that is designed, intended,\n",
        "or marketed for pedagogical or instructional purposes related to\n",
        "programming, coding, application development, or information\n",
        "technology. Permission for such use, copying, modification, and\n",
        "merger, publication, distribution, sub-licensing, creation of\n",
        "derivative works, or sale is expressly withheld.\n",
        "THE SOFTWARE IS PROVIDED \"AS IS\", WITHOUT WARRANTY OF ANY KIND,\n",
        "EXPRESS OR IMPLIED, INCLUDING BUT NOT LIMITED TO THE WARRANTIES\n",
        "OF MERCHANTABILITY, FITNESS FOR A PARTICULAR PURPOSE AND\n",
        "NONINFRINGEMENT. IN NO EVENT SHALL THE AUTHORS OR COPYRIGHT HOLDERS\n",
        "BE LIABLE FOR ANY CLAIM, DAMAGES OR OTHER LIABILITY, WHETHER IN AN\n",
        "ACTION OF CONTRACT, TORT OR OTHERWISE, ARISING FROM, OUT OF OR IN\n",
        "CONNECTION WITH THE SOFTWARE OR THE USE OR OTHER DEALINGS IN THE\n",
        "SOFTWARE.\n",
        "```"
      ]
    }
  ]
}