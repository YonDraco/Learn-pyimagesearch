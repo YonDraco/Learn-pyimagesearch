{
  "nbformat": 4,
  "nbformat_minor": 0,
  "metadata": {
    "colab": {
      "name": "Note.ipynb",
      "provenance": [],
      "authorship_tag": "ABX9TyNvkNMmHzxldeEGzzSeMM5q",
      "include_colab_link": true
    },
    "kernelspec": {
      "name": "python3",
      "display_name": "Python 3"
    },
    "language_info": {
      "name": "python"
    }
  },
  "cells": [
    {
      "cell_type": "markdown",
      "metadata": {
        "id": "view-in-github",
        "colab_type": "text"
      },
      "source": [
        "<a href=\"https://colab.research.google.com/github/YonDraco/learn-pyimagesearch/blob/master/Note.ipynb\" target=\"_parent\"><img src=\"https://colab.research.google.com/assets/colab-badge.svg\" alt=\"Open In Colab\"/></a>"
      ]
    },
    {
      "cell_type": "markdown",
      "metadata": {
        "id": "m3bKtmETCL6Q"
      },
      "source": [
        "**[What is Deep Learning?](https://www.pyimagesearch.com/2021/04/17/what-is-deep-learning/)** "
      ]
    },
    {
      "cell_type": "markdown",
      "metadata": {
        "id": "B7-5dt_rCcmH"
      },
      "source": [
        "**[Image Classification Basics](https://www.pyimagesearch.com/2021/04/17/image-classification-basics/)** "
      ]
    },
    {
      "cell_type": "markdown",
      "metadata": {
        "id": "HtuE0fcjCg6_"
      },
      "source": [
        "**[The Deep Learning Classification Pipeline](https://www.pyimagesearch.com/2021/04/17/the-deep-learning-classification-pipeline/)** "
      ]
    },
    {
      "cell_type": "markdown",
      "metadata": {
        "id": "kIOFhzXBChau"
      },
      "source": [
        "**[Your First Image Classifier: Using k-NN to Classify Images](https://www.pyimagesearch.com/2021/04/17/your-first-image-classifier-using-k-nn-to-classify-images/)** "
      ]
    },
    {
      "cell_type": "markdown",
      "metadata": {
        "id": "msbzozN0CiG9"
      },
      "source": [
        "**[An Intro to Linear Classification with Python](https://www.pyimagesearch.com/2016/08/22/an-intro-to-linear-classification-with-python/)** "
      ]
    }
  ]
}